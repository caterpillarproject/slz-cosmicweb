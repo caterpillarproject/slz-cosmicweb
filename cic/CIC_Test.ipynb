{
 "metadata": {
  "name": "",
  "signature": "sha256:56b5cea8f23708069be75856893ff63a2b20163f8dcc0ea28d256210b053d4ea"
 },
 "nbformat": 3,
 "nbformat_minor": 0,
 "worksheets": [
  {
   "cells": [
    {
     "cell_type": "code",
     "collapsed": false,
     "input": [
      "import numpy as np\n",
      "import cic"
     ],
     "language": "python",
     "metadata": {},
     "outputs": [],
     "prompt_number": 20
    },
    {
     "cell_type": "code",
     "collapsed": false,
     "input": [
      "%load_ext Cython"
     ],
     "language": "python",
     "metadata": {},
     "outputs": [],
     "prompt_number": 2
    },
    {
     "cell_type": "code",
     "collapsed": false,
     "input": [
      "pos = cic.read_position_data()\n",
      "points, _, ndims = cic.calculate_params(pos)"
     ],
     "language": "python",
     "metadata": {},
     "outputs": [],
     "prompt_number": 4
    },
    {
     "cell_type": "code",
     "collapsed": false,
     "input": [
      "%%cython\n",
      "from __future__ import division, print_function\n",
      "import math\n",
      "import numpy as np\n",
      "cimport numpy as np\n",
      "cimport cython\n",
      "\n",
      "FLOAT = np.float\n",
      "INT = np.int_\n",
      "UINT = np.uint\n",
      "ctypedef np.float_t FLOAT_t\n",
      "ctypedef np.int_t INT_t\n",
      "ctypedef np.uint_t UINT_t\n",
      "\n",
      "@cython.wraparound(False)\n",
      "@cython.boundscheck(False)\n",
      "def cic_3d(np.ndarray[FLOAT_t, ndim=2] points, np.ndarray[INT_t, ndim=1] ndims):\n",
      "    \"\"\" A Cython-based 3D cloud-in-cell algorithm.\n",
      "\n",
      "    Parameters\n",
      "    ----------\n",
      "    np.ndarray points : (n,3) array of points.\n",
      "    np.ndarray ndims : (3,) vector for the shape of the return value.\n",
      "    \"\"\"\n",
      "    if points.shape[1] != 3:\n",
      "        raise ValueError(\"Argument `points` must of shape (:,3).\")\n",
      "    elif (points < 0).any():\n",
      "        raise ValueError(\"Argument `points` must be positive.\")\n",
      "    if ndims.shape[0] != 3:\n",
      "        raise ValueError(\"Argument `ndims` must have shape (3,).\")\n",
      "    if (points >= ndims).any():\n",
      "        raise ValueError(\"Argument `ndims` too small to contain the range of `points`.\")\n",
      "#    assert points.dtype == FLOAT and ndims.dtype == FLOAT\n",
      "\n",
      "    ndensity = np.zeros(ndims + 2, dtype=FLOAT)\n",
      "    cdef FLOAT_t[:, :, :] ndensity_view = ndensity\n",
      "#    cdef FLOAT_t[:, :] points_view = points\n",
      "    cdef np.ndarray[FLOAT_t, ndim=1] cell# = np.zeros(3, dtype=UINT)\n",
      "    cdef np.ndarray[FLOAT_t, ndim=2] delta = np.zeros((2,3), dtype=FLOAT)\n",
      "    cdef np.ndarray[FLOAT_t, ndim=1] celldelta# = np.zeros(3, dtype=FLOAT)\n",
      "    cdef np.ndarray[FLOAT_t, ndim=1] p\n",
      "    cdef UINT_t i, j, k\n",
      "    cdef unsigned long n\n",
      "#    for n in range(points.shape[0]):\n",
      "    for p in points:\n",
      "        # Find the cell nearest to p\n",
      "#        p = points[n]\n",
      "        cell = np.rint(p)\n",
      "        celldelta = cell - p\n",
      "        delta[0] = 0.5 + celldelta\n",
      "        delta[1] = 0.5 - celldelta\n",
      "        for i in range(2):\n",
      "            for j in range(2):\n",
      "                for k in range(2):\n",
      "                    ndensity_view[<UINT_t>(cell[0]+i), <UINT_t>(cell[1]+j), <UINT_t>(cell[2]+k)] += delta[i,0] * delta[j,1] * delta[k,2]\n",
      "    return ndensity"
     ],
     "language": "python",
     "metadata": {},
     "outputs": [],
     "prompt_number": 50
    },
    {
     "cell_type": "code",
     "collapsed": false,
     "input": [
      "timeit cic.cic(points[:1000],ndims)"
     ],
     "language": "python",
     "metadata": {},
     "outputs": [
      {
       "output_type": "stream",
       "stream": "stdout",
       "text": [
        "10 loops, best of 3: 99 ms per loop\n"
       ]
      }
     ],
     "prompt_number": 27
    },
    {
     "cell_type": "code",
     "collapsed": false,
     "input": [
      "timeit cic_3d(points[:1000],ndims)"
     ],
     "language": "python",
     "metadata": {},
     "outputs": [
      {
       "output_type": "stream",
       "stream": "stdout",
       "text": [
        "100 loops, best of 3: 10.7 ms per loop\n"
       ]
      }
     ],
     "prompt_number": 54
    },
    {
     "cell_type": "code",
     "collapsed": false,
     "input": [
      "timeit cic_3d(points[:1000],ndims)"
     ],
     "language": "python",
     "metadata": {},
     "outputs": [
      {
       "output_type": "stream",
       "stream": "stdout",
       "text": [
        "100 loops, best of 3: 13.7 ms per loop\n"
       ]
      }
     ],
     "prompt_number": 32
    },
    {
     "cell_type": "code",
     "collapsed": false,
     "input": [
      "timeit cic_3d(points[:1000],ndims)"
     ],
     "language": "python",
     "metadata": {},
     "outputs": [
      {
       "output_type": "stream",
       "stream": "stdout",
       "text": [
        "100 loops, best of 3: 10.7 ms per loop\n"
       ]
      }
     ],
     "prompt_number": 53
    },
    {
     "cell_type": "code",
     "collapsed": false,
     "input": [
      "(cic.cic(points[:1000],ndims) == cic_3d(points[:1000],ndims)).all()"
     ],
     "language": "python",
     "metadata": {},
     "outputs": [
      {
       "metadata": {},
       "output_type": "pyout",
       "prompt_number": 24,
       "text": [
        "True"
       ]
      }
     ],
     "prompt_number": 24
    },
    {
     "cell_type": "code",
     "collapsed": false,
     "input": [
      "%%cython\n",
      "from __future__ import division, print_function\n",
      "import math\n",
      "import numpy as np\n",
      "cimport numpy as np\n",
      "cimport cython\n",
      "\n",
      "FLOAT = np.float\n",
      "INT = np.int_\n",
      "UINT = np.uint\n",
      "ctypedef np.float_t FLOAT_t\n",
      "ctypedef np.int_t INT_t\n",
      "ctypedef np.uint_t UINT_t\n",
      "\n",
      "cpdef void cic_loop(point)\n",
      "    ndensity = np.zeros(ndims + 2, dtype=FLOAT)\n",
      "    cdef FLOAT_t[:, :, :] ndensity_view = ndensity\n",
      "#    cdef FLOAT_t[:, :] points_view = points\n",
      "    cdef np.ndarray[FLOAT_t, ndim=1] cell# = np.zeros(3, dtype=UINT)\n",
      "    cdef np.ndarray[FLOAT_t, ndim=2] delta = np.zeros((2,3), dtype=FLOAT)\n",
      "    cdef np.ndarray[FLOAT_t, ndim=1] celldelta# = np.zeros(3, dtype=FLOAT)\n",
      "    cdef np.ndarray[FLOAT_t, ndim=1] p\n",
      "    cdef UINT_t i, j, k\n",
      "    cdef unsigned long n\n",
      "    for n in range(points.shape[0]):\n",
      "#    for p in points:\n",
      "        # Find the cell nearest to p\n",
      "    p = points[n]\n",
      "    cell = np.rint(p)\n",
      "    celldelta = cell - p\n",
      "    delta[0] = 0.5 + celldelta\n",
      "    delta[1] = 0.5 - celldelta"
     ],
     "language": "python",
     "metadata": {},
     "outputs": []
    }
   ],
   "metadata": {}
  }
 ]
}